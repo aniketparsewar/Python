{
 "cells": [
  {
   "cell_type": "code",
   "execution_count": 1,
   "metadata": {
    "collapsed": false
   },
   "outputs": [
    {
     "name": "stdout",
     "output_type": "stream",
     "text": [
      "Please enter an integer: 4\n"
     ]
    }
   ],
   "source": [
    "val=int(raw_input('Please enter an integer: '))"
   ]
  },
  {
   "cell_type": "code",
   "execution_count": 48,
   "metadata": {
    "collapsed": true
   },
   "outputs": [],
   "source": [
    "def primefact():\n",
    "    val=int(raw_input('Please enter an integer: '))\n",
    "    l=[]\n",
    "    flag=1\n",
    "    x=1\n",
    "    while x<val-1:\n",
    "        x+=1\n",
    "        if val%x==0:\n",
    "            flag=0\n",
    "            l.append(x)\n",
    "            val=val/x\n",
    "            x=1\n",
    "        else:\n",
    "            flag=1\n",
    "    if flag==1:\n",
    "        l.append(val)\n",
    "    print l"
   ]
  },
  {
   "cell_type": "code",
   "execution_count": 52,
   "metadata": {
    "collapsed": false
   },
   "outputs": [
    {
     "name": "stdout",
     "output_type": "stream",
     "text": [
      "Please enter an integer: 12675876\n",
      "[2, 2, 3, 1056323]\n"
     ]
    }
   ],
   "source": [
    "primefact()"
   ]
  },
  {
   "cell_type": "code",
   "execution_count": null,
   "metadata": {
    "collapsed": true
   },
   "outputs": [],
   "source": []
  },
  {
   "cell_type": "code",
   "execution_count": null,
   "metadata": {
    "collapsed": true
   },
   "outputs": [],
   "source": []
  }
 ],
 "metadata": {
  "kernelspec": {
   "display_name": "Python 2",
   "language": "python",
   "name": "python2"
  },
  "language_info": {
   "codemirror_mode": {
    "name": "ipython",
    "version": 2
   },
   "file_extension": ".py",
   "mimetype": "text/x-python",
   "name": "python",
   "nbconvert_exporter": "python",
   "pygments_lexer": "ipython2",
   "version": "2.7.11"
  }
 },
 "nbformat": 4,
 "nbformat_minor": 0
}
